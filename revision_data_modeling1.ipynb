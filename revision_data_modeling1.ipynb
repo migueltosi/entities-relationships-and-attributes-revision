{
 "cells": [
  {
   "cell_type": "markdown",
   "id": "62d87af2",
   "metadata": {},
   "source": [
    "# Database modeling: entities, relationships and attributes [Revision]"
   ]
  },
  {
   "cell_type": "markdown",
   "id": "fa1de052",
   "metadata": {},
   "source": [
    "https://cursos.alura.com.br/course/modelagem-banco-dados-entidades-relacionamentos-atributos"
   ]
  },
  {
   "cell_type": "markdown",
   "id": "f25b4c2d",
   "metadata": {},
   "source": [
    "## Database"
   ]
  },
  {
   "cell_type": "markdown",
   "id": "ba069997",
   "metadata": {},
   "source": [
    "### Identify a logical data model and a physical data model."
   ]
  },
  {
   "cell_type": "code",
   "execution_count": null,
   "id": "555409c4",
   "metadata": {},
   "outputs": [],
   "source": [
    "# logical model: serves to clearly define and explain functions, relationships, and attributes of entities"
   ]
  },
  {
   "cell_type": "code",
   "execution_count": 2,
   "id": "557a3f32",
   "metadata": {},
   "outputs": [],
   "source": [
    "# physical model: serves to demonstrate physically what occurs and relates. closest model to the DBMS"
   ]
  },
  {
   "cell_type": "markdown",
   "id": "7e6de160",
   "metadata": {},
   "source": [
    "### Differentiate a high-level model from a low-level model."
   ]
  },
  {
   "cell_type": "code",
   "execution_count": 3,
   "id": "557e3de9",
   "metadata": {},
   "outputs": [],
   "source": [
    "# high-level model: model closer to human language, facilitating compression and having intuitive visual models"
   ]
  },
  {
   "cell_type": "code",
   "execution_count": 4,
   "id": "319f0409",
   "metadata": {},
   "outputs": [],
   "source": [
    "# low-level model: model closer to computer language, more complex and difficult to understand"
   ]
  },
  {
   "cell_type": "markdown",
   "id": "766d01f2",
   "metadata": {},
   "source": [
    "### Understand what DBMSs are"
   ]
  },
  {
   "cell_type": "code",
   "execution_count": 10,
   "id": "6413e91f",
   "metadata": {},
   "outputs": [],
   "source": [
    "# A DBMS (Database Management System) serves as an interface between an end-user and a database, allowing users to create, read, update, and delete data in the database"
   ]
  },
  {
   "cell_type": "markdown",
   "id": "93df17c8",
   "metadata": {},
   "source": [
    "### Apply modeling techniques using the CASE tool"
   ]
  },
  {
   "cell_type": "markdown",
   "id": "2394b409",
   "metadata": {},
   "source": [
    "#### A CASE tool is capable of using different geometric shapes to:"
   ]
  },
  {
   "cell_type": "code",
   "execution_count": 7,
   "id": "b60a1bb5",
   "metadata": {},
   "outputs": [],
   "source": [
    "# good visual representation"
   ]
  },
  {
   "cell_type": "code",
   "execution_count": 8,
   "id": "f009216e",
   "metadata": {},
   "outputs": [],
   "source": [
    "# the data dictionary"
   ]
  },
  {
   "cell_type": "code",
   "execution_count": 9,
   "id": "d3d9db69",
   "metadata": {},
   "outputs": [],
   "source": [
    "# the integration between the entity/relationship diagram and the data dictionary"
   ]
  },
  {
   "cell_type": "markdown",
   "id": "0d892a41",
   "metadata": {},
   "source": [
    "## Relationship entity model"
   ]
  },
  {
   "cell_type": "markdown",
   "id": "f5ec25ea",
   "metadata": {},
   "source": [
    "### Apply the mini-world concept"
   ]
  },
  {
   "cell_type": "code",
   "execution_count": 12,
   "id": "682171b3",
   "metadata": {},
   "outputs": [],
   "source": [
    "# 'Zig Market' is a company that sells products (ZigItem) and the rights to the stocks of those respective products (ZigOwn)."
   ]
  },
  {
   "cell_type": "code",
   "execution_count": 13,
   "id": "151c7cd1",
   "metadata": {},
   "outputs": [],
   "source": [
    "# (ZigOwn) [have] (ZigOwner). //ZigOwner is the Owner of ZigOwn"
   ]
  },
  {
   "cell_type": "code",
   "execution_count": null,
   "id": "33be81b9",
   "metadata": {},
   "outputs": [],
   "source": [
    "# (ZigOwner) is an account. One (Buyer) can be N (ZigOwner)s."
   ]
  },
  {
   "cell_type": "code",
   "execution_count": null,
   "id": "0a69e827",
   "metadata": {},
   "outputs": [],
   "source": [
    "# (ZigOwner) have portions that can be [offered] too. One (ZigOwn) can have N (ZigOwners)"
   ]
  },
  {
   "cell_type": "code",
   "execution_count": null,
   "id": "6edf5039",
   "metadata": {},
   "outputs": [],
   "source": [
    "# ZigCash is the money that (ZigOwner) receive from Zig Market for (purchase) that [contains] (ZigItem)\n",
    "# that (ZigOwner) [have] (ZigOwn)"
   ]
  },
  {
   "cell_type": "code",
   "execution_count": 16,
   "id": "5ce44fbc",
   "metadata": {},
   "outputs": [],
   "source": [
    "# (Buyer) [make] (purchase) (ZigItem) that [belongs] (ZigOwn)"
   ]
  },
  {
   "cell_type": "code",
   "execution_count": 18,
   "id": "ef40a9ac",
   "metadata": {},
   "outputs": [],
   "source": [
    "# (ZigOwner) [make] (Ofert) of (ZigOwn)\n",
    "# (Buyer) [accept] (Ofert) of (ZigOwn) from (ZigOwner)"
   ]
  },
  {
   "cell_type": "code",
   "execution_count": 17,
   "id": "fc053466",
   "metadata": {},
   "outputs": [],
   "source": [
    "# (Zig Market) give [transfer] (ZigCash) to (ZigOwner) by (Purchase)\n",
    "# (Buyer) receive<-[transfer] (ZigCash) from (Zig Market) by (Purchase)"
   ]
  },
  {
   "cell_type": "markdown",
   "id": "863a86e0",
   "metadata": {},
   "source": [
    "### Develop the abstraction process."
   ]
  },
  {
   "cell_type": "code",
   "execution_count": null,
   "id": "7e8ab526",
   "metadata": {},
   "outputs": [],
   "source": [
    "# (ZigOwn), (Buyer), (ZigOwner), (ZigItem), (Purchase) and (Ofert) are entities.\n",
    "# [have], [make], [belongs], [accept] and [contains] are relationships\n"
   ]
  },
  {
   "cell_type": "markdown",
   "id": "fd7c5f6a",
   "metadata": {},
   "source": [
    "### Explain the importance of interviews."
   ]
  },
  {
   "cell_type": "code",
   "execution_count": null,
   "id": "d0de7c45",
   "metadata": {},
   "outputs": [],
   "source": [
    "# Through it, we know what the customer wants, the key points and all the details of the business and the process"
   ]
  },
  {
   "cell_type": "markdown",
   "id": "bd9c8aba",
   "metadata": {},
   "source": [
    "### Differentiate the Entity and Relationship Model (ERM) from the Entity and Relationship Diagram (ERD)"
   ]
  },
  {
   "cell_type": "code",
   "execution_count": null,
   "id": "4ca6c77f",
   "metadata": {},
   "outputs": [],
   "source": [
    "# ERM: describe objects, their characteristics and how they relate; just the concept"
   ]
  },
  {
   "cell_type": "code",
   "execution_count": null,
   "id": "1ce4bf90",
   "metadata": {},
   "outputs": [],
   "source": [
    "# DER: graphical representation of ERM, which facilitates communication and understanding"
   ]
  },
  {
   "cell_type": "markdown",
   "id": "8e9f1d78",
   "metadata": {},
   "source": [
    "## Entities"
   ]
  },
  {
   "cell_type": "markdown",
   "id": "a2d67b47",
   "metadata": {},
   "source": [
    "#### An unique object in real life, abstract or concrete"
   ]
  },
  {
   "cell_type": "markdown",
   "id": "7ac466a0",
   "metadata": {},
   "source": [
    "### Identify types of entities."
   ]
  },
  {
   "cell_type": "code",
   "execution_count": null,
   "id": "fff566ab",
   "metadata": {},
   "outputs": [],
   "source": [
    "# Strong entity: independent of the existence of another entity"
   ]
  },
  {
   "cell_type": "code",
   "execution_count": null,
   "id": "96421ce1",
   "metadata": {},
   "outputs": [],
   "source": [
    "# Weak entity: dependent on the existence of another entity"
   ]
  },
  {
   "cell_type": "markdown",
   "id": "a957ca7f",
   "metadata": {},
   "source": [
    "### Differentiate strong entities from weak entities."
   ]
  },
  {
   "cell_type": "code",
   "execution_count": null,
   "id": "b155df0b",
   "metadata": {},
   "outputs": [],
   "source": [
    "# Strong entities: (Buyer), (ZigOwn)"
   ]
  },
  {
   "cell_type": "code",
   "execution_count": null,
   "id": "ad48b2fc",
   "metadata": {},
   "outputs": [],
   "source": [
    "# Weak entities: (Purchase), (Ofert), (ZigOwner), (ZigItem)"
   ]
  },
  {
   "cell_type": "markdown",
   "id": "8483f7fb",
   "metadata": {},
   "source": [
    "### Represent the entities in the case tool"
   ]
  },
  {
   "cell_type": "markdown",
   "id": "769f1664",
   "metadata": {},
   "source": [
    " <img src='brmodels/brmodel1.png'>"
   ]
  },
  {
   "cell_type": "code",
   "execution_count": null,
   "id": "a2b93ef5",
   "metadata": {},
   "outputs": [],
   "source": [
    "# in the future ZigItem is considered a weak entity"
   ]
  },
  {
   "cell_type": "markdown",
   "id": "7a48a321",
   "metadata": {},
   "source": [
    "## Entity Relationship Diagram"
   ]
  },
  {
   "cell_type": "markdown",
   "id": "0f577032",
   "metadata": {},
   "source": [
    "### Identify the types of relationship."
   ]
  },
  {
   "cell_type": "code",
   "execution_count": 1,
   "id": "aaa1864b",
   "metadata": {},
   "outputs": [],
   "source": [
    "# Binary degree occurs when two entities participate in a relationship"
   ]
  },
  {
   "cell_type": "code",
   "execution_count": null,
   "id": "c81e2e6d",
   "metadata": {},
   "outputs": [],
   "source": [
    "# Ternary degree when three entities participate in a relationship"
   ]
  },
  {
   "cell_type": "code",
   "execution_count": null,
   "id": "c41afd69",
   "metadata": {},
   "outputs": [],
   "source": [
    "# N-ary degree when four or more entities participate in a relationship"
   ]
  },
  {
   "cell_type": "markdown",
   "id": "8100102e",
   "metadata": {},
   "source": [
    "### Determine the degree of a relationship."
   ]
  },
  {
   "cell_type": "markdown",
   "id": "dfb579c1",
   "metadata": {},
   "source": [
    "#### For example:"
   ]
  },
  {
   "cell_type": "code",
   "execution_count": null,
   "id": "bba49628",
   "metadata": {},
   "outputs": [],
   "source": [
    "# 1 Buyer make n Purchase, 1 Purchase is created by 1 Buyer"
   ]
  },
  {
   "cell_type": "code",
   "execution_count": 2,
   "id": "1890dbaa",
   "metadata": {},
   "outputs": [],
   "source": [
    "# 1 ZigOwner have 1 ZigOwn, 1 ZigOwn have N ZigOwners "
   ]
  },
  {
   "cell_type": "code",
   "execution_count": null,
   "id": "d6446753",
   "metadata": {
    "collapsed": true
   },
   "outputs": [],
   "source": [
    "# 1 Purchase contains n ZigItem, 1 ZigItems is contained in n Purchases"
   ]
  },
  {
   "cell_type": "markdown",
   "id": "7ec58b03",
   "metadata": {},
   "source": [
    "### Recognize cardinality types."
   ]
  },
  {
   "cell_type": "markdown",
   "id": "c6aa5010",
   "metadata": {},
   "source": [
    "#### In the same examples, respectively:"
   ]
  },
  {
   "cell_type": "code",
   "execution_count": null,
   "id": "03f12321",
   "metadata": {},
   "outputs": [],
   "source": [
    "# Buyer (1, 1); Purchase(0,n)"
   ]
  },
  {
   "cell_type": "code",
   "execution_count": null,
   "id": "7978d3a3",
   "metadata": {},
   "outputs": [],
   "source": [
    "# ZigOwners(1, n); ZigOwn (1,1)"
   ]
  },
  {
   "cell_type": "code",
   "execution_count": null,
   "id": "d9579143",
   "metadata": {},
   "outputs": [],
   "source": [
    "# Purchase (1,n), ZigItem (1, n)"
   ]
  },
  {
   "cell_type": "markdown",
   "id": "2510e046",
   "metadata": {},
   "source": [
    "### Represent relationships in ERD."
   ]
  },
  {
   "cell_type": "markdown",
   "id": "8ef72384",
   "metadata": {},
   "source": [
    " <img src='brmodels/brmodel2.png'>"
   ]
  },
  {
   "cell_type": "markdown",
   "id": "8d97bae9",
   "metadata": {},
   "source": [
    "## Attributes"
   ]
  },
  {
   "cell_type": "markdown",
   "id": "fdf45754",
   "metadata": {},
   "source": [
    "#### Characteristics of entities. There is no entity without an attribute"
   ]
  },
  {
   "cell_type": "markdown",
   "id": "f2ec4996",
   "metadata": {},
   "source": [
    "### Identify the types of attributes."
   ]
  },
  {
   "cell_type": "code",
   "execution_count": null,
   "id": "d5b913c3",
   "metadata": {},
   "outputs": [],
   "source": [
    "# Atomic: A single attribute, with 1 value/insert."
   ]
  },
  {
   "cell_type": "code",
   "execution_count": null,
   "id": "7a3f14f0",
   "metadata": {},
   "outputs": [],
   "source": [
    "# Multivalued: An attribute with more than 1 value/insert. Or an attribute with 2 or more ramifications"
   ]
  },
  {
   "cell_type": "markdown",
   "id": "2c66596a",
   "metadata": {},
   "source": [
    "### Represent the attributes in the brModelo."
   ]
  },
  {
   "cell_type": "markdown",
   "id": "a114f663",
   "metadata": {},
   "source": [
    " <img src='brmodels/brmodel3.png'>"
   ]
  },
  {
   "cell_type": "code",
   "execution_count": null,
   "id": "23e7509e",
   "metadata": {},
   "outputs": [],
   "source": []
  }
 ],
 "metadata": {
  "kernelspec": {
   "display_name": "Python 3 (ipykernel)",
   "language": "python",
   "name": "python3"
  },
  "language_info": {
   "codemirror_mode": {
    "name": "ipython",
    "version": 3
   },
   "file_extension": ".py",
   "mimetype": "text/x-python",
   "name": "python",
   "nbconvert_exporter": "python",
   "pygments_lexer": "ipython3",
   "version": "3.9.13"
  }
 },
 "nbformat": 4,
 "nbformat_minor": 5
}
